{
 "cells": [
  {
   "cell_type": "code",
   "execution_count": 1,
   "metadata": {},
   "outputs": [],
   "source": [
    "import pandas as pd"
   ]
  },
  {
   "cell_type": "markdown",
   "metadata": {},
   "source": [
    "### Функции"
   ]
  },
  {
   "cell_type": "code",
   "execution_count": 2,
   "metadata": {},
   "outputs": [],
   "source": [
    "def make_latex_score(mean, rmse):\n",
    "    rmse = \"{:.3f}\".format(rmse)\n",
    "    mean = \"{:.3f}\".format(mean)\n",
    "    return \"\\\\underset{\" + f\"({rmse})\" + \"}\" + \"{\" + mean + \"}\"\n",
    "\n",
    "def get_latex_row_part(summary_row):\n",
    "    mean_cols = [\"mean_estimates_1\", \"mean_estimates_2\", \"mean_estimates_3\"]\n",
    "    rmse_cols = [\"rmse_1\", \"rmse_2\", \"rmse_3\"]\n",
    "    return \" & \".join([\n",
    "        make_latex_score(summary_row[mean_col], summary_row[rmse_col]) \n",
    "        for mean_col, rmse_col in zip(mean_cols, rmse_cols)\n",
    "    ])\n",
    "        \n",
    "def get_latex_rows(summary_df, label):\n",
    "    row_parts = summary_df.apply(get_latex_row_part, axis=1).tolist()\n",
    "    first_cols = row_parts[0::3]\n",
    "    second_cols = row_parts[1::3]\n",
    "    third_cols = row_parts[2::3]\n",
    "    return [\n",
    "        \" & \".join([label, first, second, third]) + \" \\\\\\\\\"\n",
    "        for first, second, third in zip(first_cols, second_cols, third_cols)\n",
    "    ]\n",
    "\n",
    "def print_latex_rows(summary_df, label):\n",
    "    for row in get_latex_rows(summary_df, label):\n",
    "        print(row)\n",
    "\n",
    "def print_latex_rows_for_all_lengths(summary_df, label):\n",
    "    for length, simulation in summary_df.groupby(\"length\"):\n",
    "        print(f\"T = {length}\")\n",
    "        print_latex_rows(\n",
    "            simulation.sort_values(by=[\"true_params_3\"], ascending=False), label\n",
    "        )\n",
    "        print()"
   ]
  },
  {
   "cell_type": "code",
   "execution_count": 3,
   "metadata": {},
   "outputs": [],
   "source": [
    "def get_dict_from_arr(arr, prefix):\n",
    "    return {f\"{prefix}_{idx}\": [number] for idx, number in enumerate(arr, 1)}\n",
    "\n",
    "def extract_row(df_block):\n",
    "    true_params = get_dict_from_arr(df_block.iloc[0, :].astype(float), \"true_params\")\n",
    "    mean_estimates = get_dict_from_arr(df_block.iloc[1, :].astype(float), \"mean_estimates\")\n",
    "    rmse = get_dict_from_arr(df_block.iloc[2, :].apply(lambda s: s[1:-1]).astype(float), \"rmse\")\n",
    "    result_dict = {}\n",
    "    result_dict.update(true_params)\n",
    "    result_dict.update(mean_estimates)\n",
    "    result_dict.update(rmse)\n",
    "    return pd.DataFrame(result_dict)\n",
    "\n",
    "def convert_reference_to_summary_format(reference_df):\n",
    "    size = 3\n",
    "    result_dfs = []\n",
    "    for block_idx in range(9):\n",
    "        row_begin = 3 * ((block_idx * 3) // 9)\n",
    "        col_begin = (block_idx * 3) % 9\n",
    "        block = reference_df.iloc[row_begin:row_begin + size, col_begin:col_begin + size]\n",
    "        result_dfs.append(extract_row(block))\n",
    "    return pd.concat(result_dfs)\n"
   ]
  },
  {
   "cell_type": "markdown",
   "metadata": {},
   "source": [
    "### Таблицы для QML"
   ]
  },
  {
   "cell_type": "code",
   "execution_count": 4,
   "metadata": {},
   "outputs": [
    {
     "name": "stdout",
     "output_type": "stream",
     "text": [
      "\\theta_{unbounded} & \\underset{(0.467)}{-0.967} & \\underset{(0.056)}{0.882} & \\underset{(0.163)}{0.693} & \\underset{(0.355)}{-0.538} & \\underset{(0.043)}{0.934} & \\underset{(0.130)}{0.503} & \\underset{(0.351)}{-0.293} & \\underset{(0.044)}{0.964} & \\underset{(0.104)}{0.332} \\\\\n",
      "\\theta_{unbounded} & \\underset{(1.428)}{-1.214} & \\underset{(0.192)}{0.836} & \\underset{(0.249)}{0.427} & \\underset{(1.354)}{-0.792} & \\underset{(0.182)}{0.893} & \\underset{(0.221)}{0.325} & \\underset{(1.343)}{-0.552} & \\underset{(0.181)}{0.925} & \\underset{(0.204)}{0.232} \\\\\n",
      "\\theta_{unbounded} & \\underset{(5.474)}{-4.684} & \\underset{(0.776)}{0.336} & \\underset{(0.360)}{0.304} & \\underset{(5.419)}{-4.202} & \\underset{(0.770)}{0.404} & \\underset{(0.363)}{0.283} & \\underset{(5.521)}{-4.041} & \\underset{(0.786)}{0.426} & \\underset{(0.370)}{0.264} \\\\\n"
     ]
    }
   ],
   "source": [
    "unbounded = pd.read_csv(\"stat_models/experiments/stochastic-volatility/QML/rossi_params/small/unbounded_gs/unbounded.csv\")\n",
    "print_latex_rows(unbounded, \"\\\\theta_{unbounded}\")"
   ]
  },
  {
   "cell_type": "code",
   "execution_count": 5,
   "metadata": {},
   "outputs": [
    {
     "name": "stdout",
     "output_type": "stream",
     "text": [
      "\\theta_{bounded} & \\underset{(0.404)}{-0.950} & \\underset{(0.049)}{0.884} & \\underset{(0.154)}{0.689} & \\underset{(0.326)}{-0.533} & \\underset{(0.039)}{0.935} & \\underset{(0.126)}{0.502} & \\underset{(0.262)}{-0.283} & \\underset{(0.032)}{0.965} & \\underset{(0.095)}{0.330} \\\\\n",
      "\\theta_{bounded} & \\underset{(0.547)}{-0.936} & \\underset{(0.073)}{0.873} & \\underset{(0.164)}{0.389} & \\underset{(0.496)}{-0.587} & \\underset{(0.067)}{0.920} & \\underset{(0.146)}{0.300} & \\underset{(0.479)}{-0.372} & \\underset{(0.064)}{0.950} & \\underset{(0.127)}{0.212} \\\\\n",
      "\\theta_{bounded} & \\underset{(0.716)}{-1.166} & \\underset{(0.101)}{0.835} & \\underset{(0.161)}{0.160} & \\underset{(0.899)}{-1.021} & \\underset{(0.127)}{0.856} & \\underset{(0.165)}{0.154} & \\underset{(1.001)}{-0.907} & \\underset{(0.141)}{0.872} & \\underset{(0.168)}{0.140} \\\\\n"
     ]
    }
   ],
   "source": [
    "bounded = pd.read_csv(\"stat_models/experiments/stochastic-volatility/QML/rossi_params/small/bouned_gs/bounded.csv\")\n",
    "print_latex_rows(bounded, \"\\\\theta_{bounded}\")"
   ]
  },
  {
   "cell_type": "code",
   "execution_count": 6,
   "metadata": {},
   "outputs": [
    {
     "name": "stdout",
     "output_type": "stream",
     "text": [
      "\\theta_{jacquier} & \\underset{(0.480)}{-0.990} & \\underset{(0.060)}{0.880} & \\underset{(0.160)}{0.700} & \\underset{(0.320)}{-0.550} & \\underset{(0.040)}{0.930} & \\underset{(0.120)}{0.510} & \\underset{(0.090)}{-0.110} & \\underset{(0.010)}{0.990} & \\underset{(0.070)}{0.330} \\\\\n",
      "\\theta_{jacquier} & \\underset{(1.600)}{-1.400} & \\underset{(0.220)}{0.810} & \\underset{(0.270)}{0.450} & \\underset{(1.700)}{-1.000} & \\underset{(0.230)}{0.860} & \\underset{(0.250)}{0.350} & \\underset{(0.540)}{-0.200} & \\underset{(0.080)}{0.970} & \\underset{(0.150)}{0.220} \\\\\n",
      "\\theta_{jacquier} & \\underset{(5.600)}{-5.500} & \\underset{(0.790)}{0.230} & \\underset{(0.390)}{0.330} & \\underset{(6.000)}{-5.500} & \\underset{(0.850)}{0.220} & \\underset{(0.410)}{0.310} & \\underset{(4.600)}{-3.500} & \\underset{(0.670)}{0.490} & \\underset{(0.460)}{0.350} \\\\\n"
     ]
    }
   ],
   "source": [
    "reference = pd.read_csv(\"stat_models/experiments/stochastic-volatility/QML/rossi_params/small/reference_results.csv\", header=None)\n",
    "print_latex_rows(convert_reference_to_summary_format(reference), \"\\\\theta_{jacquier}\")"
   ]
  },
  {
   "cell_type": "code",
   "execution_count": 7,
   "metadata": {},
   "outputs": [
    {
     "data": {
      "text/html": [
       "<div>\n",
       "<style scoped>\n",
       "    .dataframe tbody tr th:only-of-type {\n",
       "        vertical-align: middle;\n",
       "    }\n",
       "\n",
       "    .dataframe tbody tr th {\n",
       "        vertical-align: top;\n",
       "    }\n",
       "\n",
       "    .dataframe thead th {\n",
       "        text-align: right;\n",
       "    }\n",
       "</style>\n",
       "<table border=\"1\" class=\"dataframe\">\n",
       "  <thead>\n",
       "    <tr style=\"text-align: right;\">\n",
       "      <th></th>\n",
       "      <th>length</th>\n",
       "      <th>true_params_1</th>\n",
       "      <th>true_params_2</th>\n",
       "      <th>true_params_3</th>\n",
       "      <th>mean_estimates_1</th>\n",
       "      <th>mean_estimates_2</th>\n",
       "      <th>mean_estimates_3</th>\n",
       "      <th>rmse_1</th>\n",
       "      <th>rmse_2</th>\n",
       "      <th>rmse_3</th>\n",
       "    </tr>\n",
       "  </thead>\n",
       "  <tbody>\n",
       "    <tr>\n",
       "      <th>0</th>\n",
       "      <td>500</td>\n",
       "      <td>-0.8210</td>\n",
       "      <td>0.90</td>\n",
       "      <td>0.6750</td>\n",
       "      <td>-0.949996</td>\n",
       "      <td>0.884288</td>\n",
       "      <td>0.689432</td>\n",
       "      <td>0.403685</td>\n",
       "      <td>0.048541</td>\n",
       "      <td>0.153664</td>\n",
       "    </tr>\n",
       "    <tr>\n",
       "      <th>1</th>\n",
       "      <td>500</td>\n",
       "      <td>-0.4106</td>\n",
       "      <td>0.95</td>\n",
       "      <td>0.4835</td>\n",
       "      <td>-0.533458</td>\n",
       "      <td>0.934978</td>\n",
       "      <td>0.501719</td>\n",
       "      <td>0.325632</td>\n",
       "      <td>0.039428</td>\n",
       "      <td>0.125938</td>\n",
       "    </tr>\n",
       "    <tr>\n",
       "      <th>2</th>\n",
       "      <td>500</td>\n",
       "      <td>-0.1642</td>\n",
       "      <td>0.98</td>\n",
       "      <td>0.3080</td>\n",
       "      <td>-0.283455</td>\n",
       "      <td>0.965428</td>\n",
       "      <td>0.330256</td>\n",
       "      <td>0.262070</td>\n",
       "      <td>0.031960</td>\n",
       "      <td>0.094863</td>\n",
       "    </tr>\n",
       "    <tr>\n",
       "      <th>3</th>\n",
       "      <td>500</td>\n",
       "      <td>-0.7360</td>\n",
       "      <td>0.90</td>\n",
       "      <td>0.3630</td>\n",
       "      <td>-0.936494</td>\n",
       "      <td>0.873022</td>\n",
       "      <td>0.389160</td>\n",
       "      <td>0.547116</td>\n",
       "      <td>0.073378</td>\n",
       "      <td>0.164032</td>\n",
       "    </tr>\n",
       "    <tr>\n",
       "      <th>4</th>\n",
       "      <td>500</td>\n",
       "      <td>-0.3680</td>\n",
       "      <td>0.95</td>\n",
       "      <td>0.2600</td>\n",
       "      <td>-0.586524</td>\n",
       "      <td>0.920453</td>\n",
       "      <td>0.299642</td>\n",
       "      <td>0.495546</td>\n",
       "      <td>0.066672</td>\n",
       "      <td>0.145740</td>\n",
       "    </tr>\n",
       "    <tr>\n",
       "      <th>5</th>\n",
       "      <td>500</td>\n",
       "      <td>-0.1472</td>\n",
       "      <td>0.98</td>\n",
       "      <td>0.1660</td>\n",
       "      <td>-0.372264</td>\n",
       "      <td>0.949635</td>\n",
       "      <td>0.211525</td>\n",
       "      <td>0.478748</td>\n",
       "      <td>0.064125</td>\n",
       "      <td>0.127410</td>\n",
       "    </tr>\n",
       "    <tr>\n",
       "      <th>6</th>\n",
       "      <td>500</td>\n",
       "      <td>-0.7060</td>\n",
       "      <td>0.90</td>\n",
       "      <td>0.1350</td>\n",
       "      <td>-1.166156</td>\n",
       "      <td>0.835095</td>\n",
       "      <td>0.160344</td>\n",
       "      <td>0.715749</td>\n",
       "      <td>0.100650</td>\n",
       "      <td>0.160821</td>\n",
       "    </tr>\n",
       "    <tr>\n",
       "      <th>7</th>\n",
       "      <td>500</td>\n",
       "      <td>-0.3530</td>\n",
       "      <td>0.95</td>\n",
       "      <td>0.0964</td>\n",
       "      <td>-1.021499</td>\n",
       "      <td>0.855630</td>\n",
       "      <td>0.154050</td>\n",
       "      <td>0.899122</td>\n",
       "      <td>0.126613</td>\n",
       "      <td>0.164589</td>\n",
       "    </tr>\n",
       "    <tr>\n",
       "      <th>8</th>\n",
       "      <td>500</td>\n",
       "      <td>-0.1412</td>\n",
       "      <td>0.98</td>\n",
       "      <td>0.0614</td>\n",
       "      <td>-0.906854</td>\n",
       "      <td>0.871790</td>\n",
       "      <td>0.139583</td>\n",
       "      <td>1.000594</td>\n",
       "      <td>0.141135</td>\n",
       "      <td>0.168421</td>\n",
       "    </tr>\n",
       "  </tbody>\n",
       "</table>\n",
       "</div>"
      ],
      "text/plain": [
       "   length  true_params_1  true_params_2  true_params_3  mean_estimates_1  \\\n",
       "0     500        -0.8210           0.90         0.6750         -0.949996   \n",
       "1     500        -0.4106           0.95         0.4835         -0.533458   \n",
       "2     500        -0.1642           0.98         0.3080         -0.283455   \n",
       "3     500        -0.7360           0.90         0.3630         -0.936494   \n",
       "4     500        -0.3680           0.95         0.2600         -0.586524   \n",
       "5     500        -0.1472           0.98         0.1660         -0.372264   \n",
       "6     500        -0.7060           0.90         0.1350         -1.166156   \n",
       "7     500        -0.3530           0.95         0.0964         -1.021499   \n",
       "8     500        -0.1412           0.98         0.0614         -0.906854   \n",
       "\n",
       "   mean_estimates_2  mean_estimates_3    rmse_1    rmse_2    rmse_3  \n",
       "0          0.884288          0.689432  0.403685  0.048541  0.153664  \n",
       "1          0.934978          0.501719  0.325632  0.039428  0.125938  \n",
       "2          0.965428          0.330256  0.262070  0.031960  0.094863  \n",
       "3          0.873022          0.389160  0.547116  0.073378  0.164032  \n",
       "4          0.920453          0.299642  0.495546  0.066672  0.145740  \n",
       "5          0.949635          0.211525  0.478748  0.064125  0.127410  \n",
       "6          0.835095          0.160344  0.715749  0.100650  0.160821  \n",
       "7          0.855630          0.154050  0.899122  0.126613  0.164589  \n",
       "8          0.871790          0.139583  1.000594  0.141135  0.168421  "
      ]
     },
     "execution_count": 7,
     "metadata": {},
     "output_type": "execute_result"
    }
   ],
   "source": [
    "bounded"
   ]
  },
  {
   "cell_type": "markdown",
   "metadata": {},
   "source": [
    "### Таблицы для сравнения QML и SMM"
   ]
  },
  {
   "cell_type": "code",
   "execution_count": 10,
   "metadata": {},
   "outputs": [
    {
     "name": "stdout",
     "output_type": "stream",
     "text": [
      "T = 250\n",
      "\\hat{\\theta}_{\\text{QML}} & \\underset{(0.570)}{-1.078} & \\underset{(0.069)}{0.868} & \\underset{(0.222)}{0.717} & \\underset{(0.536)}{-0.683} & \\underset{(0.065)}{0.917} & \\underset{(0.206)}{0.536} & \\underset{(0.669)}{-1.082} & \\underset{(0.090)}{0.853} & \\underset{(0.220)}{0.406} \\\\\n",
      "\\hat{\\theta}_{\\text{QML}} & \\underset{(0.524)}{-0.453} & \\underset{(0.064)}{0.945} & \\underset{(0.179)}{0.367} & \\underset{(0.718)}{-0.794} & \\underset{(0.097)}{0.892} & \\underset{(0.213)}{0.330} & \\underset{(0.786)}{-0.648} & \\underset{(0.106)}{0.912} & \\underset{(0.208)}{0.252} \\\\\n",
      "\\hat{\\theta}_{\\text{QML}} & \\underset{(0.796)}{-1.318} & \\underset{(0.112)}{0.813} & \\underset{(0.204)}{0.179} & \\underset{(1.056)}{-1.254} & \\underset{(0.149)}{0.822} & \\underset{(0.208)}{0.173} & \\underset{(1.226)}{-1.221} & \\underset{(0.174)}{0.827} & \\underset{(0.212)}{0.159} \\\\\n",
      "\n",
      "T = 500\n",
      "\\hat{\\theta}_{\\text{QML}} & \\underset{(0.404)}{-0.950} & \\underset{(0.049)}{0.884} & \\underset{(0.154)}{0.689} & \\underset{(0.326)}{-0.533} & \\underset{(0.039)}{0.935} & \\underset{(0.126)}{0.502} & \\underset{(0.547)}{-0.936} & \\underset{(0.073)}{0.873} & \\underset{(0.164)}{0.389} \\\\\n",
      "\\hat{\\theta}_{\\text{QML}} & \\underset{(0.262)}{-0.283} & \\underset{(0.032)}{0.965} & \\underset{(0.095)}{0.330} & \\underset{(0.496)}{-0.587} & \\underset{(0.067)}{0.920} & \\underset{(0.146)}{0.300} & \\underset{(0.479)}{-0.373} & \\underset{(0.064)}{0.950} & \\underset{(0.127)}{0.212} \\\\\n",
      "\\hat{\\theta}_{\\text{QML}} & \\underset{(0.715)}{-1.163} & \\underset{(0.101)}{0.835} & \\underset{(0.161)}{0.160} & \\underset{(0.898)}{-1.022} & \\underset{(0.126)}{0.856} & \\underset{(0.165)}{0.154} & \\underset{(0.997)}{-0.903} & \\underset{(0.141)}{0.872} & \\underset{(0.169)}{0.140} \\\\\n",
      "\n",
      "T = 1000\n",
      "\\hat{\\theta}_{\\text{QML}} & \\underset{(0.251)}{-0.870} & \\underset{(0.030)}{0.894} & \\underset{(0.105)}{0.681} & \\underset{(0.155)}{-0.455} & \\underset{(0.019)}{0.944} & \\underset{(0.076)}{0.491} & \\underset{(0.424)}{-0.853} & \\underset{(0.057)}{0.884} & \\underset{(0.125)}{0.382} \\\\\n",
      "\\hat{\\theta}_{\\text{QML}} & \\underset{(0.099)}{-0.206} & \\underset{(0.012)}{0.975} & \\underset{(0.052)}{0.316} & \\underset{(0.268)}{-0.453} & \\underset{(0.036)}{0.938} & \\underset{(0.088)}{0.276} & \\underset{(0.134)}{-0.205} & \\underset{(0.018)}{0.972} & \\underset{(0.052)}{0.178} \\\\\n",
      "\\hat{\\theta}_{\\text{QML}} & \\underset{(0.666)}{-1.022} & \\underset{(0.094)}{0.855} & \\underset{(0.130)}{0.153} & \\underset{(0.752)}{-0.801} & \\underset{(0.106)}{0.887} & \\underset{(0.129)}{0.141} & \\underset{(0.793)}{-0.628} & \\underset{(0.112)}{0.911} & \\underset{(0.128)}{0.121} \\\\\n",
      "\n",
      "T = 2000\n",
      "\\hat{\\theta}_{\\text{QML}} & \\underset{(0.170)}{-0.839} & \\underset{(0.020)}{0.898} & \\underset{(0.073)}{0.675} & \\underset{(0.101)}{-0.430} & \\underset{(0.012)}{0.948} & \\underset{(0.053)}{0.486} & \\underset{(0.282)}{-0.788} & \\underset{(0.038)}{0.893} & \\underset{(0.086)}{0.371} \\\\\n",
      "\\hat{\\theta}_{\\text{QML}} & \\underset{(0.060)}{-0.183} & \\underset{(0.007)}{0.978} & \\underset{(0.037)}{0.312} & \\underset{(0.154)}{-0.404} & \\underset{(0.021)}{0.945} & \\underset{(0.056)}{0.267} & \\underset{(0.076)}{-0.172} & \\underset{(0.010)}{0.977} & \\underset{(0.034)}{0.171} \\\\\n",
      "\\hat{\\theta}_{\\text{QML}} & \\underset{(0.649)}{-0.978} & \\underset{(0.091)}{0.862} & \\underset{(0.111)}{0.155} & \\underset{(0.670)}{-0.699} & \\underset{(0.094)}{0.901} & \\underset{(0.105)}{0.135} & \\underset{(0.590)}{-0.420} & \\underset{(0.083)}{0.941} & \\underset{(0.093)}{0.098} \\\\\n",
      "\n",
      "T = 4000\n",
      "\\hat{\\theta}_{\\text{QML}} & \\underset{(0.118)}{-0.831} & \\underset{(0.014)}{0.899} & \\underset{(0.051)}{0.675} & \\underset{(0.069)}{-0.419} & \\underset{(0.008)}{0.949} & \\underset{(0.037)}{0.484} & \\underset{(0.184)}{-0.759} & \\underset{(0.025)}{0.897} & \\underset{(0.058)}{0.366} \\\\\n",
      "\\hat{\\theta}_{\\text{QML}} & \\underset{(0.038)}{-0.173} & \\underset{(0.005)}{0.979} & \\underset{(0.025)}{0.309} & \\underset{(0.095)}{-0.382} & \\underset{(0.013)}{0.948} & \\underset{(0.038)}{0.262} & \\underset{(0.044)}{-0.158} & \\underset{(0.006)}{0.979} & \\underset{(0.022)}{0.168} \\\\\n",
      "\\hat{\\theta}_{\\text{QML}} & \\underset{(0.603)}{-0.898} & \\underset{(0.085)}{0.873} & \\underset{(0.091)}{0.152} & \\underset{(0.503)}{-0.541} & \\underset{(0.071)}{0.923} & \\underset{(0.079)}{0.119} & \\underset{(0.326)}{-0.244} & \\underset{(0.046)}{0.965} & \\underset{(0.057)}{0.078} \\\\\n",
      "\n"
     ]
    }
   ],
   "source": [
    "paths = [\n",
    "    \"methods_comparison/artificial_data/QML/rossi_params/diagonal_params/summary_table.csv\",\n",
    "    \"methods_comparison/artificial_data/QML/rossi_params/nondiagonal_params/big/summary_table.csv\",\n",
    "    \"methods_comparison/artificial_data/QML/rossi_params/nondiagonal_params/small/summary_table.csv\",\n",
    "    \"methods_comparison/artificial_data/QML/rossi_params/nondiagonal_params/very_big/summary_table.csv\"   \n",
    "]\n",
    "\n",
    "qml = pd.concat([pd.read_csv(path) for path in paths])\n",
    "print_latex_rows_for_all_lengths(qml, \"\\\\hat{\\\\theta}_{\\\\text{QML}}\")"
   ]
  },
  {
   "cell_type": "code",
   "execution_count": 11,
   "metadata": {},
   "outputs": [
    {
     "name": "stdout",
     "output_type": "stream",
     "text": [
      "T = 250\n",
      "\\hat{\\theta}_{\\text{SMM}} & \\underset{(0.604)}{-1.083} & \\underset{(0.074)}{0.866} & \\underset{(0.211)}{0.650} & \\underset{(0.538)}{-0.673} & \\underset{(0.066)}{0.917} & \\underset{(0.176)}{0.475} & \\underset{(0.577)}{-0.995} & \\underset{(0.079)}{0.864} & \\underset{(0.133)}{0.365} \\\\\n",
      "\\hat{\\theta}_{\\text{SMM}} & \\underset{(0.508)}{-0.461} & \\underset{(0.062)}{0.943} & \\underset{(0.129)}{0.329} & \\underset{(0.590)}{-0.701} & \\underset{(0.081)}{0.904} & \\underset{(0.120)}{0.285} & \\underset{(0.638)}{-0.579} & \\underset{(0.087)}{0.921} & \\underset{(0.110)}{0.217} \\\\\n",
      "\\hat{\\theta}_{\\text{SMM}} & \\underset{(0.548)}{-1.105} & \\underset{(0.078)}{0.843} & \\underset{(0.084)}{0.148} & \\underset{(0.803)}{-1.051} & \\underset{(0.114)}{0.851} & \\underset{(0.091)}{0.139} & \\underset{(0.987)}{-1.041} & \\underset{(0.140)}{0.852} & \\underset{(0.101)}{0.127} \\\\\n",
      "\n",
      "T = 500\n",
      "\\hat{\\theta}_{\\text{SMM}} & \\underset{(0.456)}{-0.989} & \\underset{(0.055)}{0.879} & \\underset{(0.169)}{0.659} & \\underset{(0.306)}{-0.528} & \\underset{(0.037)}{0.935} & \\underset{(0.133)}{0.463} & \\underset{(0.437)}{-0.913} & \\underset{(0.059)}{0.876} & \\underset{(0.099)}{0.369} \\\\\n",
      "\\hat{\\theta}_{\\text{SMM}} & \\underset{(0.239)}{-0.288} & \\underset{(0.029)}{0.965} & \\underset{(0.096)}{0.308} & \\underset{(0.363)}{-0.544} & \\underset{(0.049)}{0.926} & \\underset{(0.085)}{0.275} & \\underset{(0.356)}{-0.368} & \\underset{(0.048)}{0.950} & \\underset{(0.076)}{0.205} \\\\\n",
      "\\hat{\\theta}_{\\text{SMM}} & \\underset{(0.495)}{-1.104} & \\underset{(0.070)}{0.844} & \\underset{(0.069)}{0.158} & \\underset{(0.740)}{-1.014} & \\underset{(0.104)}{0.857} & \\underset{(0.081)}{0.150} & \\underset{(0.903)}{-0.972} & \\underset{(0.127)}{0.863} & \\underset{(0.097)}{0.139} \\\\\n",
      "\n",
      "T = 1000\n",
      "\\hat{\\theta}_{\\text{SMM}} & \\underset{(0.292)}{-0.889} & \\underset{(0.035)}{0.891} & \\underset{(0.135)}{0.654} & \\underset{(0.205)}{-0.461} & \\underset{(0.025)}{0.943} & \\underset{(0.108)}{0.462} & \\underset{(0.283)}{-0.824} & \\underset{(0.038)}{0.888} & \\underset{(0.072)}{0.367} \\\\\n",
      "\\hat{\\theta}_{\\text{SMM}} & \\underset{(0.144)}{-0.224} & \\underset{(0.018)}{0.973} & \\underset{(0.080)}{0.301} & \\underset{(0.220)}{-0.460} & \\underset{(0.030)}{0.937} & \\underset{(0.061)}{0.272} & \\underset{(0.191)}{-0.269} & \\underset{(0.026)}{0.963} & \\underset{(0.056)}{0.199} \\\\\n",
      "\\hat{\\theta}_{\\text{SMM}} & \\underset{(0.432)}{-1.078} & \\underset{(0.061)}{0.847} & \\underset{(0.055)}{0.163} & \\underset{(0.652)}{-0.949} & \\underset{(0.092)}{0.866} & \\underset{(0.072)}{0.154} & \\underset{(0.780)}{-0.862} & \\underset{(0.110)}{0.878} & \\underset{(0.091)}{0.143} \\\\\n",
      "\n",
      "T = 2000\n",
      "\\hat{\\theta}_{\\text{SMM}} & \\underset{(0.223)}{-0.854} & \\underset{(0.027)}{0.896} & \\underset{(0.108)}{0.663} & \\underset{(0.144)}{-0.433} & \\underset{(0.017)}{0.947} & \\underset{(0.084)}{0.470} & \\underset{(0.209)}{-0.796} & \\underset{(0.028)}{0.892} & \\underset{(0.054)}{0.372} \\\\\n",
      "\\hat{\\theta}_{\\text{SMM}} & \\underset{(0.091)}{-0.193} & \\underset{(0.011)}{0.976} & \\underset{(0.067)}{0.304} & \\underset{(0.144)}{-0.430} & \\underset{(0.019)}{0.942} & \\underset{(0.044)}{0.275} & \\underset{(0.124)}{-0.235} & \\underset{(0.017)}{0.968} & \\underset{(0.047)}{0.201} \\\\\n",
      "\\hat{\\theta}_{\\text{SMM}} & \\underset{(0.410)}{-1.072} & \\underset{(0.058)}{0.848} & \\underset{(0.051)}{0.172} & \\underset{(0.612)}{-0.921} & \\underset{(0.087)}{0.870} & \\underset{(0.073)}{0.162} & \\underset{(0.707)}{-0.801} & \\underset{(0.100)}{0.887} & \\underset{(0.094)}{0.151} \\\\\n",
      "\n",
      "T = 4000\n",
      "\\hat{\\theta}_{\\text{SMM}} & \\underset{(0.172)}{-0.838} & \\underset{(0.021)}{0.898} & \\underset{(0.084)}{0.664} & \\underset{(0.108)}{-0.419} & \\underset{(0.013)}{0.949} & \\underset{(0.069)}{0.472} & \\underset{(0.149)}{-0.784} & \\underset{(0.020)}{0.893} & \\underset{(0.038)}{0.370} \\\\\n",
      "\\hat{\\theta}_{\\text{SMM}} & \\underset{(0.067)}{-0.181} & \\underset{(0.008)}{0.978} & \\underset{(0.054)}{0.306} & \\underset{(0.100)}{-0.416} & \\underset{(0.014)}{0.943} & \\underset{(0.032)}{0.273} & \\underset{(0.090)}{-0.217} & \\underset{(0.012)}{0.971} & \\underset{(0.038)}{0.198} \\\\\n",
      "\\hat{\\theta}_{\\text{SMM}} & \\underset{(0.394)}{-1.082} & \\underset{(0.056)}{0.847} & \\underset{(0.043)}{0.171} & \\underset{(0.585)}{-0.915} & \\underset{(0.083)}{0.870} & \\underset{(0.069)}{0.162} & \\underset{(0.645)}{-0.757} & \\underset{(0.091)}{0.893} & \\underset{(0.090)}{0.150} \\\\\n",
      "\n"
     ]
    }
   ],
   "source": [
    "paths = [\n",
    "    \"methods_comparison/artificial_data/SMM/Rossi_main_diag/46m/summary_table.csv\",\n",
    "    \"methods_comparison/artificial_data/SMM/Rossi_except_diag/summary_table_big.csv\",\n",
    "    \"methods_comparison/artificial_data/SMM/Rossi_except_diag/summary_table_small.csv\",\n",
    "    \"methods_comparison/artificial_data/SMM/Rossi_except_diag/summary_table_very_big.csv\"\n",
    "]\n",
    "\n",
    "smm = pd.concat([pd.read_csv(path) for path in paths])\n",
    "print_latex_rows_for_all_lengths(smm, \"\\\\hat{\\\\theta}_{\\\\text{SMM}}\")"
   ]
  }
 ],
 "metadata": {
  "kernelspec": {
   "display_name": "rl-env",
   "language": "python",
   "name": "python3"
  },
  "language_info": {
   "codemirror_mode": {
    "name": "ipython",
    "version": 3
   },
   "file_extension": ".py",
   "mimetype": "text/x-python",
   "name": "python",
   "nbconvert_exporter": "python",
   "pygments_lexer": "ipython3",
   "version": "3.11.5"
  }
 },
 "nbformat": 4,
 "nbformat_minor": 2
}
