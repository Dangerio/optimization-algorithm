{
 "cells": [
  {
   "cell_type": "code",
   "execution_count": 1,
   "metadata": {},
   "outputs": [],
   "source": [
    "import pandas as pd"
   ]
  },
  {
   "cell_type": "code",
   "execution_count": 2,
   "metadata": {},
   "outputs": [],
   "source": [
    "def make_latex_score(mean, rmse):\n",
    "    rmse = \"{:.3f}\".format(rmse)\n",
    "    mean = \"{:.3f}\".format(mean)\n",
    "    return \"\\\\underset{\" + f\"({rmse})\" + \"}\" + \"{\" + mean + \"}\"\n",
    "\n",
    "def get_latex_row_part(summary_row):\n",
    "    mean_cols = [\"mean_estimates_1\", \"mean_estimates_2\", \"mean_estimates_3\"]\n",
    "    rmse_cols = [\"rmse_1\", \"rmse_2\", \"rmse_3\"]\n",
    "    return \" & \".join([\n",
    "        make_latex_score(summary_row[mean_col], summary_row[rmse_col]) \n",
    "        for mean_col, rmse_col in zip(mean_cols, rmse_cols)\n",
    "    ])\n",
    "        \n",
    "def get_latex_rows(summary_df, label):\n",
    "    row_parts = summary_df.apply(get_latex_row_part, axis=1).tolist()\n",
    "    first_cols = row_parts[0::3]\n",
    "    second_cols = row_parts[1::3]\n",
    "    third_cols = row_parts[2::3]\n",
    "    return [\n",
    "        \" & \".join([label, first, second, third]) + \" \\\\\\\\\"\n",
    "        for first, second, third in zip(first_cols, second_cols, third_cols)\n",
    "    ]\n",
    "\n",
    "def print_latex_rows(summary_df, label):\n",
    "    for row in get_latex_rows(summary_df, label):\n",
    "        print(row)"
   ]
  },
  {
   "cell_type": "code",
   "execution_count": 3,
   "metadata": {},
   "outputs": [],
   "source": [
    "def get_dict_from_arr(arr, prefix):\n",
    "    return {f\"{prefix}_{idx}\": [number] for idx, number in enumerate(arr, 1)}\n",
    "\n",
    "def extract_row(df_block):\n",
    "    true_params = get_dict_from_arr(df_block.iloc[0, :].astype(float), \"true_params\")\n",
    "    mean_estimates = get_dict_from_arr(df_block.iloc[1, :].astype(float), \"mean_estimates\")\n",
    "    rmse = get_dict_from_arr(df_block.iloc[2, :].apply(lambda s: s[1:-1]).astype(float), \"rmse\")\n",
    "    result_dict = {}\n",
    "    result_dict.update(true_params)\n",
    "    result_dict.update(mean_estimates)\n",
    "    result_dict.update(rmse)\n",
    "    return pd.DataFrame(result_dict)\n",
    "\n",
    "def convert_reference_to_summary_format(reference_df):\n",
    "    size = 3\n",
    "    result_dfs = []\n",
    "    for block_idx in range(9):\n",
    "        row_begin = 3 * ((block_idx * 3) // 9)\n",
    "        col_begin = (block_idx * 3) % 9\n",
    "        block = reference_df.iloc[row_begin:row_begin + size, col_begin:col_begin + size]\n",
    "        result_dfs.append(extract_row(block))\n",
    "    return pd.concat(result_dfs)\n"
   ]
  },
  {
   "cell_type": "code",
   "execution_count": 5,
   "metadata": {},
   "outputs": [
    {
     "name": "stdout",
     "output_type": "stream",
     "text": [
      "\\theta_{unbounded} & \\underset{(0.467)}{-0.967} & \\underset{(0.056)}{0.882} & \\underset{(0.163)}{0.693} & \\underset{(0.355)}{-0.538} & \\underset{(0.043)}{0.934} & \\underset{(0.130)}{0.503} & \\underset{(0.351)}{-0.293} & \\underset{(0.044)}{0.964} & \\underset{(0.104)}{0.332} \\\\\n",
      "\\theta_{unbounded} & \\underset{(1.428)}{-1.214} & \\underset{(0.192)}{0.836} & \\underset{(0.249)}{0.427} & \\underset{(1.354)}{-0.792} & \\underset{(0.182)}{0.893} & \\underset{(0.221)}{0.325} & \\underset{(1.343)}{-0.552} & \\underset{(0.181)}{0.925} & \\underset{(0.204)}{0.232} \\\\\n",
      "\\theta_{unbounded} & \\underset{(5.474)}{-4.684} & \\underset{(0.776)}{0.336} & \\underset{(0.360)}{0.304} & \\underset{(5.419)}{-4.202} & \\underset{(0.770)}{0.404} & \\underset{(0.363)}{0.283} & \\underset{(5.521)}{-4.041} & \\underset{(0.786)}{0.426} & \\underset{(0.370)}{0.264} \\\\\n"
     ]
    }
   ],
   "source": [
    "unbounded = pd.read_csv(\"stat_models/experiments/stochastic-volatility/QML/rossi_params/small/unbounded_gs/unbounded.csv\")\n",
    "print_latex_rows(unbounded, \"\\\\theta_{unbounded}\")"
   ]
  },
  {
   "cell_type": "code",
   "execution_count": 14,
   "metadata": {},
   "outputs": [
    {
     "name": "stdout",
     "output_type": "stream",
     "text": [
      "\\theta_{bounded} & \\underset{(0.404)}{-0.950} & \\underset{(0.049)}{0.884} & \\underset{(0.154)}{0.689} & \\underset{(0.326)}{-0.533} & \\underset{(0.039)}{0.935} & \\underset{(0.126)}{0.502} & \\underset{(0.262)}{-0.283} & \\underset{(0.032)}{0.965} & \\underset{(0.095)}{0.330} \\\\\n",
      "\\theta_{bounded} & \\underset{(0.547)}{-0.936} & \\underset{(0.073)}{0.873} & \\underset{(0.164)}{0.389} & \\underset{(0.496)}{-0.587} & \\underset{(0.067)}{0.920} & \\underset{(0.146)}{0.300} & \\underset{(0.479)}{-0.372} & \\underset{(0.064)}{0.950} & \\underset{(0.127)}{0.212} \\\\\n",
      "\\theta_{bounded} & \\underset{(0.716)}{-1.166} & \\underset{(0.101)}{0.835} & \\underset{(0.161)}{0.160} & \\underset{(0.899)}{-1.021} & \\underset{(0.127)}{0.856} & \\underset{(0.165)}{0.154} & \\underset{(1.001)}{-0.907} & \\underset{(0.141)}{0.872} & \\underset{(0.168)}{0.140} \\\\\n"
     ]
    }
   ],
   "source": [
    "bounded = pd.read_csv(\"stat_models/experiments/stochastic-volatility/QML/rossi_params/small/bouned_gs/bounded.csv\")\n",
    "print_latex_rows(bounded, \"\\\\theta_{bounded}\")"
   ]
  },
  {
   "cell_type": "code",
   "execution_count": 15,
   "metadata": {},
   "outputs": [
    {
     "name": "stdout",
     "output_type": "stream",
     "text": [
      "\\theta_{jacquier} & \\underset{(0.480)}{-0.990} & \\underset{(0.060)}{0.880} & \\underset{(0.160)}{0.700} & \\underset{(0.320)}{-0.550} & \\underset{(0.040)}{0.930} & \\underset{(0.120)}{0.510} & \\underset{(0.090)}{-0.110} & \\underset{(0.010)}{0.990} & \\underset{(0.070)}{0.330} \\\\\n",
      "\\theta_{jacquier} & \\underset{(1.600)}{-1.400} & \\underset{(0.220)}{0.810} & \\underset{(0.270)}{0.450} & \\underset{(1.700)}{-1.000} & \\underset{(0.230)}{0.860} & \\underset{(0.250)}{0.350} & \\underset{(0.540)}{-0.200} & \\underset{(0.080)}{0.970} & \\underset{(0.150)}{0.220} \\\\\n",
      "\\theta_{jacquier} & \\underset{(5.600)}{-5.500} & \\underset{(0.790)}{0.230} & \\underset{(0.390)}{0.330} & \\underset{(6.000)}{-5.500} & \\underset{(0.850)}{0.220} & \\underset{(0.410)}{0.310} & \\underset{(4.600)}{-3.500} & \\underset{(0.670)}{0.490} & \\underset{(0.460)}{0.350} \\\\\n"
     ]
    }
   ],
   "source": [
    "reference = pd.read_csv(\"stat_models/experiments/stochastic-volatility/QML/rossi_params/small/reference_results.csv\", header=None)\n",
    "print_latex_rows(convert_reference_to_summary_format(reference), \"\\\\theta_{jacquier}\")"
   ]
  },
  {
   "cell_type": "code",
   "execution_count": null,
   "metadata": {},
   "outputs": [],
   "source": []
  }
 ],
 "metadata": {
  "kernelspec": {
   "display_name": "rl-env",
   "language": "python",
   "name": "python3"
  },
  "language_info": {
   "codemirror_mode": {
    "name": "ipython",
    "version": 3
   },
   "file_extension": ".py",
   "mimetype": "text/x-python",
   "name": "python",
   "nbconvert_exporter": "python",
   "pygments_lexer": "ipython3",
   "version": "3.11.5"
  }
 },
 "nbformat": 4,
 "nbformat_minor": 2
}
